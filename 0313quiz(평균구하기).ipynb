{
 "cells": [
  {
   "cell_type": "code",
   "execution_count": null,
   "id": "a57b314c-381f-43aa-be2d-6ab5dc9980a1",
   "metadata": {},
   "outputs": [],
   "source": [
    "#최대값과 최소값 빼고 평균\n",
    "import pandas as pd\n",
    "\n",
    "customerData = pd.read_csv(\"C:/Users/SMART06/stdcode6/dataset/kopo_customerdata.csv\")\n",
    "customerTotalList = customerData[\"TOTAL_AMOUNT\"].tolist()\n",
    "\n",
    "customerTotalList.sort()\n",
    "\n",
    "maximum = max(customerTotalList)\n",
    "minimum = min(customerTotalList)\n",
    "\n",
    "countTotal = len(customerTotalList)-(customerTotalList.count(minimum) + customerTotalList.count(maximum))\n",
    "\n",
    "customerTotalList.remove(maximum)\n",
    "\n",
    "average=sum(customerTotalList)/countTotal\n",
    "\n",
    "print(average)"
   ]
  }
 ],
 "metadata": {
  "kernelspec": {
   "display_name": "Python 3 (ipykernel)",
   "language": "python",
   "name": "python3"
  },
  "language_info": {
   "codemirror_mode": {
    "name": "ipython",
    "version": 3
   },
   "file_extension": ".py",
   "mimetype": "text/x-python",
   "name": "python",
   "nbconvert_exporter": "python",
   "pygments_lexer": "ipython3",
   "version": "3.9.13"
  }
 },
 "nbformat": 4,
 "nbformat_minor": 5
}
