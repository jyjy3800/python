{
 "cells": [
  {
   "cell_type": "code",
   "execution_count": 191,
   "id": "41f216dc-b21b-403f-9e13-18844a81eb20",
   "metadata": {},
   "outputs": [],
   "source": [
    "gcdValue = 1\n",
    "for i in range(start,1,-1):\n",
    "    if boonja % i ==0 and boonmo % i ==0:\n",
    "        gcdValue = i\n",
    "        break\n",
    "    else : pass\n",
    "answer = [boonja/gcdValue,boonmo/gcdValue]"
   ]
  }
 ],
 "metadata": {
  "kernelspec": {
   "display_name": "Python 3 (ipykernel)",
   "language": "python",
   "name": "python3"
  },
  "language_info": {
   "codemirror_mode": {
    "name": "ipython",
    "version": 3
   },
   "file_extension": ".py",
   "mimetype": "text/x-python",
   "name": "python",
   "nbconvert_exporter": "python",
   "pygments_lexer": "ipython3",
   "version": "3.9.13"
  }
 },
 "nbformat": 4,
 "nbformat_minor": 5
}
