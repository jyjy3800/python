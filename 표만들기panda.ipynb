{
 "cells": [
  {
   "cell_type": "code",
   "execution_count": 2,
   "id": "1c3c8479-e63b-46b2-8d84-9134c828c744",
   "metadata": {},
   "outputs": [],
   "source": [
    "#행과 열을 다루는 라이브러리(pd는 판다)\n",
    "import pandas as pd"
   ]
  },
  {
   "cell_type": "code",
   "execution_count": 3,
   "id": "db689217-58e2-4a78-9bbb-2c995b99b5a8",
   "metadata": {},
   "outputs": [],
   "source": [
    "indata = pd.read_csv(\"C:/Users/SMART06/stdcode6/dataset/kopo_customerdata.csv\")\n",
    "indata2 = pd.read_csv(\"../dataset/kopo_customerdata.csv\")"
   ]
  },
  {
   "cell_type": "code",
   "execution_count": 4,
   "id": "f1c79dfe-cc6a-413c-b595-4f18c32e4af4",
   "metadata": {},
   "outputs": [],
   "source": [
    "stdCodeList = [111,222,333]\n",
    "stdNameList = [\"김효관\",\"홍길동\",\"타요\"]\n",
    "stdDf = pd.DataFrame(stdCodeList, columns =[\"학번\"])\n",
    "#판다로 표를 만드는데 stdCodeList는 값, column이름은 학번"
   ]
  },
  {
   "cell_type": "code",
   "execution_count": 5,
   "id": "094fcf9e-df76-4f58-81c7-f049dfb18805",
   "metadata": {},
   "outputs": [],
   "source": [
    "finalDf = pd.DataFrame(zip(stdCodeList,stdNameList), columns = [\"학번\",\"이름\"])"
   ]
  },
  {
   "cell_type": "code",
   "execution_count": 6,
   "id": "635ff532-a1a0-40c4-8b35-1f5730603846",
   "metadata": {},
   "outputs": [],
   "source": [
    "row1List = [\"111\",\"김효관\"]\n",
    "row2List = [\"222\",\"홍길동\"]"
   ]
  },
  {
   "cell_type": "code",
   "execution_count": 7,
   "id": "1b555099-50f9-4ee7-b677-9671363f069f",
   "metadata": {},
   "outputs": [],
   "source": [
    "stdDf2 = pd.DataFrame([ row1List,row2List],columns=[\"학번\",\"이름\"])"
   ]
  },
  {
   "cell_type": "code",
   "execution_count": 8,
   "id": "1569db0a-b308-480d-a798-d08167e6c8e8",
   "metadata": {},
   "outputs": [],
   "source": [
    "stdDf2.to_csv(\"../dataset/stdDataOut.csv\")"
   ]
  },
  {
   "cell_type": "code",
   "execution_count": 9,
   "id": "b973a3e3-5e80-4784-b14a-6c65c5ccfee8",
   "metadata": {},
   "outputs": [],
   "source": [
    "stdDf2.to_csv(\"../dataset/stdDataOut.csv\",encoding=\"ms949\", index=False)"
   ]
  },
  {
   "cell_type": "code",
   "execution_count": 15,
   "id": "8162f98a-a1eb-4913-8de7-0772f77bf448",
   "metadata": {},
   "outputs": [
    {
     "data": {
      "text/html": [
       "<div>\n",
       "<style scoped>\n",
       "    .dataframe tbody tr th:only-of-type {\n",
       "        vertical-align: middle;\n",
       "    }\n",
       "\n",
       "    .dataframe tbody tr th {\n",
       "        vertical-align: top;\n",
       "    }\n",
       "\n",
       "    .dataframe thead th {\n",
       "        text-align: right;\n",
       "    }\n",
       "</style>\n",
       "<table border=\"1\" class=\"dataframe\">\n",
       "  <thead>\n",
       "    <tr style=\"text-align: right;\">\n",
       "      <th></th>\n",
       "      <th>학번</th>\n",
       "      <th>이름</th>\n",
       "    </tr>\n",
       "  </thead>\n",
       "  <tbody>\n",
       "    <tr>\n",
       "      <th>0</th>\n",
       "      <td>111</td>\n",
       "      <td>김효관</td>\n",
       "    </tr>\n",
       "    <tr>\n",
       "      <th>1</th>\n",
       "      <td>222</td>\n",
       "      <td>홍길동</td>\n",
       "    </tr>\n",
       "    <tr>\n",
       "      <th>2</th>\n",
       "      <td>333</td>\n",
       "      <td>타요</td>\n",
       "    </tr>\n",
       "  </tbody>\n",
       "</table>\n",
       "</div>"
      ],
      "text/plain": [
       "    학번   이름\n",
       "0  111  김효관\n",
       "1  222  홍길동\n",
       "2  333   타요"
      ]
     },
     "execution_count": 15,
     "metadata": {},
     "output_type": "execute_result"
    }
   ],
   "source": [
    "finalDf"
   ]
  }
 ],
 "metadata": {
  "kernelspec": {
   "display_name": "Python 3 (ipykernel)",
   "language": "python",
   "name": "python3"
  },
  "language_info": {
   "codemirror_mode": {
    "name": "ipython",
    "version": 3
   },
   "file_extension": ".py",
   "mimetype": "text/x-python",
   "name": "python",
   "nbconvert_exporter": "python",
   "pygments_lexer": "ipython3",
   "version": "3.9.13"
  }
 },
 "nbformat": 4,
 "nbformat_minor": 5
}
